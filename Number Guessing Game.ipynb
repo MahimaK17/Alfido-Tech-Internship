{
  "nbformat": 4,
  "nbformat_minor": 0,
  "metadata": {
    "colab": {
      "provenance": []
    },
    "kernelspec": {
      "name": "python3",
      "display_name": "Python 3"
    },
    "language_info": {
      "name": "python"
    }
  },
  "cells": [
    {
      "cell_type": "code",
      "execution_count": 1,
      "metadata": {
        "colab": {
          "base_uri": "https://localhost:8080/"
        },
        "id": "yEvSmu6iJWRq",
        "outputId": "3eb76db1-7f31-4920-9960-ef1611bc677a"
      },
      "outputs": [
        {
          "output_type": "stream",
          "name": "stdout",
          "text": [
            "Welcome to the Number Guessing Game!\n",
            "I've chosen a secret number between 1 and 100.\n",
            "Enter your guess: 52\n",
            "Too low!\n",
            "Enter your guess: 62\n",
            "Too low!\n",
            "Enter your guess: 92\n",
            "Too low!\n",
            "Enter your guess: 98\n",
            "Congratulations! You guessed the number in 4 attempts.\n"
          ]
        }
      ],
      "source": [
        "import random\n",
        "\n",
        "def guess_the_number():\n",
        "    \"\"\"A command-line number guessing game.\"\"\"\n",
        "\n",
        "    secret_number = random.randint(1, 100)\n",
        "    attempts = 0\n",
        "\n",
        "    print(\"Welcome to the Number Guessing Game!\")\n",
        "    print(\"I've chosen a secret number between 1 and 100.\")\n",
        "\n",
        "    while True:\n",
        "        try:\n",
        "            guess = int(input(\"Enter your guess: \"))\n",
        "            attempts += 1\n",
        "\n",
        "            if guess < 1 or guess > 100:\n",
        "                print(\"Please enter a number between 1 and 100.\")\n",
        "                continue  # Go back to the beginning of the loop\n",
        "\n",
        "            if guess < secret_number:\n",
        "                print(\"Too low!\")\n",
        "            elif guess > secret_number:\n",
        "                print(\"Too high!\")\n",
        "            else:\n",
        "                print(f\"Congratulations! You guessed the number in {attempts} attempts.\")\n",
        "                break  # Exit the loop when the guess is correct\n",
        "\n",
        "        except ValueError:\n",
        "            print(\"Invalid input. Please enter a number.\")\n",
        "\n",
        "\n",
        "if __name__ == \"__main__\":\n",
        "    guess_the_number()"
      ]
    }
  ]
}